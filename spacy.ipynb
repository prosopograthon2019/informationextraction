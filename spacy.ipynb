{
 "cells": [
  {
   "cell_type": "code",
   "execution_count": 72,
   "metadata": {},
   "outputs": [],
   "source": [
    "import json\n",
    "import math\n",
    "from pprint import pprint\n",
    "import random\n",
    "import spacy\n",
    "\n",
    "from spacy.util import minibatch, compounding"
   ]
  },
  {
   "cell_type": "code",
   "execution_count": 66,
   "metadata": {},
   "outputs": [
    {
     "name": "stdout",
     "output_type": "stream",
     "text": [
      "207\n",
      "[['\\ufeffἈγαθημέρου τοῦ Ὄρθωνος', {'entities': [[0, 11, 'PERSON']]}],\n",
      " ['γεωγραφίας ὑποτύπωσις', {'entities': []}],\n",
      " ['Ἀναξίμανδρος ὁ Μιλήσιος ἀκουστὴς Θάλεω πρῶτος ἀπετόλμησε',\n",
      "  {'entities': [[33, 38, 'PERSON'], [15, 23, 'LOC'], [0, 12, 'PERSON']]}]]\n"
     ]
    }
   ],
   "source": [
    "# loads the training data\n",
    "train_file = open('training/json/agathemerus-with-context.json')\n",
    "data = json.load(train_file)\n",
    "size_of_data = len(data)\n",
    "\n",
    "pprint(size_of_data)\n",
    "pprint(data[:3])"
   ]
  },
  {
   "cell_type": "code",
   "execution_count": 67,
   "metadata": {},
   "outputs": [],
   "source": [
    "# randomises the data\n",
    "random.shuffle(data)"
   ]
  },
  {
   "cell_type": "code",
   "execution_count": 68,
   "metadata": {},
   "outputs": [],
   "source": [
    "# splits the data into training and testing sets\n",
    "threshold = math.floor(size_of_data * .9)\n",
    "\n",
    "train_data = data[:threshold]\n",
    "test_data = data[threshold:]"
   ]
  },
  {
   "cell_type": "code",
   "execution_count": 69,
   "metadata": {},
   "outputs": [],
   "source": [
    "# creates a blank model of greek, it doesn't recognise the ancient greek code grc\n",
    "nlp = spacy.blank('el')\n",
    "ner = nlp.create_pipe('ner')\n",
    "nlp.add_pipe(ner)"
   ]
  },
  {
   "cell_type": "code",
   "execution_count": 70,
   "metadata": {},
   "outputs": [],
   "source": [
    "# adds the entity types we want to identify\n",
    "for item in data:\n",
    "    for entity in item[1]['entities']:\n",
    "        ner.add_label(entity[2])"
   ]
  },
  {
   "cell_type": "code",
   "execution_count": 71,
   "metadata": {},
   "outputs": [
    {
     "name": "stdout",
     "output_type": "stream",
     "text": [
      "Warning: Unnamed vectors -- this won't allow multiple vectors models to be loaded. (Shape: (0, 0))\n"
     ]
    }
   ],
   "source": [
    "# initialises a pipeline for training\n",
    "optimizer = nlp.begin_training()"
   ]
  },
  {
   "cell_type": "code",
   "execution_count": 83,
   "metadata": {},
   "outputs": [
    {
     "name": "stdout",
     "output_type": "stream",
     "text": [
      "Iteration # 0\n",
      "Losses {'ner': 36.76341152791397}\n",
      "Iteration # 1\n",
      "Losses {'ner': 31.145264529279427}\n",
      "Iteration # 2\n",
      "Losses {'ner': 27.73465433365283}\n",
      "Iteration # 3\n",
      "Losses {'ner': 26.40244953376762}\n",
      "Iteration # 4\n",
      "Losses {'ner': 23.300564097653822}\n",
      "Iteration # 5\n",
      "Losses {'ner': 21.538866541027687}\n",
      "Iteration # 6\n",
      "Losses {'ner': 19.943257923933714}\n",
      "Iteration # 7\n",
      "Losses {'ner': 19.792641800868452}\n",
      "Iteration # 8\n",
      "Losses {'ner': 16.62473737404465}\n",
      "Iteration # 9\n",
      "Losses {'ner': 15.372801822989823}\n"
     ]
    }
   ],
   "source": [
    "# trains the model\n",
    "for i in range(10):\n",
    "    print('Iteration #', i)\n",
    "    \n",
    "    random.shuffle(train_data)\n",
    "    losses = {}\n",
    "    \n",
    "    batches = minibatch(train_data, size=compounding(4.0, 32.0, 1.001))\n",
    "    for batch in batches:\n",
    "        texts, annotations = zip(*batch)\n",
    "        nlp.update(\n",
    "            texts,  # batch of texts\n",
    "            annotations,  # batch of annotations\n",
    "            drop=0.5,  # dropout - make it harder to memorise data\n",
    "            losses=losses,\n",
    "        )\n",
    "\n",
    "    print('Losses', losses)"
   ]
  },
  {
   "cell_type": "code",
   "execution_count": 88,
   "metadata": {},
   "outputs": [
    {
     "name": "stdout",
     "output_type": "stream",
     "text": [
      "Text ἔστι δὲ ἡ μεγάλη Σύρτις σταδίων ˏε, ἡ δὲ μικρὰ σταδίων ˏαχ. τὸ δὲ\n",
      "Expected Entities [('ἡ μεγάλη Σύρτις', 'LOC'), ('ἡ δὲ μικρὰ', 'LOC')]\n",
      "Entities [('Σύρτις', 'LOC')]\n",
      "0  out of  2\n",
      "\n",
      "Text κίρκιον ὑπὸ τῶν περιοίκων ὀνομαζόμενον. ἔθνη δὲ οἰκεῖν τὰ πέρατα\n",
      "Expected Entities [('ἔθνη', 'LOC')]\n",
      "Entities [('τῶν περιοίκων ὀνομαζόμενον. ἔθνη', 'LOC')]\n",
      "0  out of  1\n",
      "\n",
      "Text πάλιν δὲ ἀπ’ ἀρχῆς Εὐρώπης καὶ Λιβύης Ἰβηρικὸν τὸ ἀπὸ Στηλῶν\n",
      "Expected Entities [('Ἰβηρικὸν', 'LOC'), ('Ἰβηρικὸν τὸ ἀπὸ Στηλῶν', 'LOC'), ('Στηλῶν', 'LOC'), ('Εὐρώπης', 'LOC'), ('Λιβύης', 'LOC')]\n",
      "Entities [('Εὐρώπης', 'LOC'), ('Λιβύης', 'LOC'), ('Ἰβηρικὸν', 'LOC'), ('Στηλῶν', 'LOC')]\n",
      "4  out of  5\n",
      "\n",
      "Text πελάγει νῆσοι Πιτυοῦσσαι ἡ μείζων καὶ οἰκουμένη σταδίων τ μῆκος,\n",
      "Expected Entities [('ἡ μείζων', 'LOC'), ('Πιτυοῦσσαι', 'LOC'), ('νῆσοι Πιτυοῦσσαι', 'LOC')]\n",
      "Entities [('Πιτυοῦσσαι', 'LOC'), ('οἰκουμένη', 'LOC')]\n",
      "1  out of  3\n",
      "\n",
      "Text ˏϛωκ οὕτως· ἀπὸ Μυριάνδρου ἐπὶ Κλεῖδας Κύπρου σταδίων  χιλίων\n",
      "Expected Entities [('Κλεῖδας Κύπρου', 'LOC'), ('Κύπρου', 'LOC'), ('Μυριάνδρου', 'LOC')]\n",
      "Entities [('Μυριάνδρου', 'LOC'), ('Κλεῖδας Κύπρου', 'LOC')]\n",
      "2  out of  3\n",
      "\n",
      "Text ἕως πόλεως ’Ιλλυγύρεως ὑπό τῇ Πυρήνῃ οὔσης στάδια ˏγψμδ, εἶτα\n",
      "Expected Entities [('Ιλλυγύρεως', 'LOC'), ('Πυρήνῃ', 'LOC'), ('πόλεως ’Ιλλυγύρεως', 'LOC')]\n",
      "Entities [('πόλεως', 'LOC'), ('Πυρήνῃ', 'LOC')]\n",
      "1  out of  3\n",
      "\n",
      "Text ἐγγὺς στάδια ˏαφ. Κέρκινα νῆσος μῆκος σ πλάτος στάδια ο, ὅπου\n",
      "Expected Entities [('Κέρκινα νῆσος', 'LOC'), ('Κέρκινα', 'LOC')]\n",
      "Entities [('Κέρκινα', 'LOC')]\n",
      "1  out of  2\n",
      "\n",
      "Text Μῆκος δὲ τῆς οἰκουμένης ἀπὸ Γάγγου εἰς τὰ Γάδειρα σταδίων\n",
      "Expected Entities [('οἰκουμένης', 'LOC'), ('Γάδειρα', 'LOC'), ('Γάγγου', 'LOC')]\n",
      "Entities [('Μῆκος', 'LOC'), ('οἰκουμένης', 'LOC'), ('Γάγγου', 'LOC'), ('τὰ Γάδειρα', 'LOC')]\n",
      "2  out of  3\n",
      "\n",
      "Text καὶ ἀρχὰς Λιβύης καὶ Εὐρώπης, κατὰ ἀργέστην Ἰβηρίαν τὴν νῦν\n",
      "Expected Entities [('Λιβύης', 'LOC'), ('ἀρχὰς Λιβύης', 'LOC'), ('Εὐρώπης', 'LOC'), ('Ἰβηρίαν τὴν νῦν', 'LOC'), ('Ἰβηρίαν', 'LOC')]\n",
      "Entities [('Λιβύης', 'LOC'), ('Εὐρώπης', 'LOC'), ('Ἰβηρίαν', 'LOC')]\n",
      "3  out of  5\n",
      "\n",
      "Text Ἄμπελον στάδια λ, ἐπὶ τὸ Αἰγαῖον Ἄργεννον  διὰ τοῦ Αἰγαίου\n",
      "Expected Entities [('Ἄργεννον', 'LOC'), ('Αἰγαῖον', 'LOC'), ('Αἰγαίου', 'LOC'), ('Ἄμπελον', 'LOC')]\n",
      "Entities [('Ἄμπελον', 'LOC'), ('Αἰγαῖον', 'LOC'), ('Ἄργεννον', 'LOC'), ('Αἰγαίου', 'LOC')]\n",
      "4  out of  4\n",
      "\n",
      "Text Ἰκαρία δέ ἐστι μακρὰ τραχεῖα, μῆκος σταδίων τ. Χίου περίμετρος\n",
      "Expected Entities [('Ἰκαρία', 'LOC'), ('Χίου', 'LOC')]\n",
      "Entities [('Ἰκαρία', 'LOC'), ('Χίου', 'LOC')]\n",
      "2  out of  2\n",
      "\n",
      "Text στάδια χξ. Λέσβου περίμετρος στάδ ˏαρ.\n",
      "Expected Entities [('Λέσβου', 'LOC')]\n",
      "Entities [('Λέσβου', 'LOC')]\n",
      "1  out of  1\n",
      "\n",
      "Text στάδια ψ, ἐπὶ Κόρκυραν στάδια ψ, ἐπ’ Ἀκροκεραύνια ὄρη στάδια\n",
      "Expected Entities [('Ἀκροκεραύνια ὄρη', 'LOC'), ('Ἀκροκεραύνια', 'LOC'), ('Κόρκυραν', 'LOC')]\n",
      "Entities [('Κόρκυραν', 'LOC'), ('Ἀκροκεραύνια', 'LOC')]\n",
      "2  out of  3\n",
      "\n",
      "Text κόλπον οὗ ἐκ δεξιῶν Ἀκρίτας ἄκρα, εἶτα  προπέπτωκεν ἄκρον\n",
      "Expected Entities [('ἄκρον', 'LOC'), ('Ἀκρίτας ἄκρα', 'LOC'), ('Ἀκρίτας', 'LOC')]\n",
      "Entities [('Ἀκρίτας', 'LOC')]\n",
      "1  out of  3\n",
      "\n",
      "Text εἰς πόλιν, ἀπὸ Ἀλεξανδρείας εἰς Ῥόδον στάδια ˏδχο, εἰς Κνίδον\n",
      "Expected Entities [('Ἀλεξανδρείας', 'LOC'), ('Ῥόδον', 'LOC'), ('πόλιν', 'LOC'), ('Κνίδον', 'LOC')]\n",
      "Entities [('Ἀλεξανδρείας', 'LOC'), ('Ῥόδον', 'LOC'), ('Κνίδον', 'LOC')]\n",
      "3  out of  4\n",
      "\n",
      "Text Λιλύβαιον  διὰ Λιβυκοῦ πελάγους στάδια ˏαφκ, ἐπὶ δὲ Κάραλιν\n",
      "Expected Entities [('Λιβυκοῦ πελάγους', 'LOC'), ('Λιλύβαιον', 'LOC'), ('Κάραλιν', 'LOC'), ('Λιβυκοῦ', 'LOC')]\n",
      "Entities [('Λιλύβαιον', 'LOC'), ('Λιβυκοῦ', 'LOC'), ('Κάραλιν', 'LOC')]\n",
      "3  out of  4\n",
      "\n",
      "Text Ὁ δὲ Ἀράβιος κόλπος στενὸς ὢν καὶ προμήκης\n",
      "Expected Entities [('Ἀράβιος κόλπος', 'LOC')]\n",
      "Entities [('Ἀράβιος', 'LOC')]\n",
      "0  out of  1\n",
      "\n",
      "Text ἄλλοι δὲ οὐροειδῆ, Ποσειδώνιος δ’ ὁ Στωϊκὸς σφενδονοειδῆ καὶ\n",
      "Expected Entities [('Ποσειδώνιος δ’ ὁ Στωϊκὸς', 'PERSON'), ('Ποσειδώνιος', 'PERSON')]\n",
      "Entities [('Ποσειδώνιος', 'LOC'), ('Στωϊκὸς', 'LOC')]\n",
      "0  out of  2\n",
      "\n",
      "Text Δικαίαρχος δ’ ὁρίζει τὴν γῆν οὐχ ὕδασιν ἀλλὰ τομῇ\n",
      "Expected Entities [('Δικαίαρχος', 'PERSON')]\n",
      "Entities [('Δικαίαρχος', 'LOC')]\n",
      "0  out of  1\n",
      "\n",
      "Text Ἀδρίαν καὶ τὸν ἀνακεχυμένον ἐκ τοῦ Σικελικοῦ πελάγους, ὃν\n",
      "Expected Entities [('Σικελικοῦ πελάγους', 'LOC'), ('Ἀδρίαν', 'LOC')]\n",
      "Entities [('Ἀδρίαν', 'LOC'), ('Σικελικοῦ', 'LOC')]\n",
      "1  out of  2\n",
      "\n",
      "Text ἄκρον ὅ ἐστι τῆς Πελοποννήσου τὸ δ’ Ἀντίριον Λοκρίδος. ἀπὸ  Ταινάρου ἐπὶ Φυκοῦντα Λιβύης τὸ δίαρμα στάδια ˏγ. \n",
      "Expected Entities [('Λοκρίδος', 'LOC'), ('Λιβύης', 'LOC'), ('Φυκοῦντα', 'LOC'), ('Ἀντίριον', 'LOC'), ('Πελοποννήσου', 'LOC'), ('Ταινάρου', 'LOC'), ('Ἀντίριον Λοκρίδος', 'LOC')]\n",
      "Entities [('Πελοποννήσου', 'LOC'), ('Ἀντίριον', 'LOC'), ('Λοκρίδος', 'LOC'), ('Ταινάρου', 'LOC'), ('Φυκοῦντα', 'LOC')]\n",
      "5  out of  7\n",
      "\n",
      "Accuracy 0.5901639344262295\n"
     ]
    }
   ],
   "source": [
    "# tests the trained model\n",
    "c_matches = 0\n",
    "c_expected = 0\n",
    "\n",
    "for text, entities in test_data:\n",
    "    doc = nlp(text)\n",
    "    expected = [\n",
    "        (text[ent[0]:ent[1]], ent[2]) for ent in entities['entities']\n",
    "    ]\n",
    "    entities = [\n",
    "        (ent.text, ent.label_) for ent in doc.ents\n",
    "    ]\n",
    "    \n",
    "    print('Text', text)\n",
    "    print('Expected Entities', expected)\n",
    "    print('Entities', entities)\n",
    "    \n",
    "    matches = 0\n",
    "    for ent in entities:\n",
    "        if ent in expected:\n",
    "            matches += 1\n",
    "    \n",
    "    print(matches, ' out of ', len(expected))\n",
    "    \n",
    "    c_matches += matches\n",
    "    c_expected += len(expected)\n",
    "    \n",
    "    print()\n",
    "\n",
    "print('Accuracy', c_matches/c_expected)"
   ]
  },
  {
   "cell_type": "code",
   "execution_count": null,
   "metadata": {},
   "outputs": [],
   "source": []
  }
 ],
 "metadata": {
  "kernelspec": {
   "display_name": "Python 3",
   "language": "python",
   "name": "python3"
  },
  "language_info": {
   "codemirror_mode": {
    "name": "ipython",
    "version": 3
   },
   "file_extension": ".py",
   "mimetype": "text/x-python",
   "name": "python",
   "nbconvert_exporter": "python",
   "pygments_lexer": "ipython3",
   "version": "3.7.2"
  }
 },
 "nbformat": 4,
 "nbformat_minor": 2
}
